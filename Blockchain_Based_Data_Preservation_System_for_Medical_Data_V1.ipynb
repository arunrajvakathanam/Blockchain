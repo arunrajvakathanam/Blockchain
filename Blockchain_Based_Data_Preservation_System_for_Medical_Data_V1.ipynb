{
  "cells": [
    {
      "cell_type": "markdown",
      "metadata": {
        "id": "view-in-github",
        "colab_type": "text"
      },
      "source": [
        "<a href=\"https://colab.research.google.com/github/arunrajvakathanam/Blockchain/blob/main/Blockchain_Based_Data_Preservation_System_for_Medical_Data_V1.ipynb\" target=\"_parent\"><img src=\"https://colab.research.google.com/assets/colab-badge.svg\" alt=\"Open In Colab\"/></a>"
      ]
    },
    {
      "cell_type": "markdown",
      "metadata": {
        "id": "Lj74as_OfzRv"
      },
      "source": [
        "##Blockchain-Based Data Preservation System for Medical Data"
      ]
    },
    {
      "cell_type": "code",
      "execution_count": null,
      "metadata": {
        "id": "ZZdFV4Mef6a2"
      },
      "outputs": [],
      "source": [
        "#Libries\n",
        "import json\n",
        "from hashlib import sha256\n",
        "from datetime import datetime"
      ]
    },
    {
      "cell_type": "code",
      "execution_count": null,
      "metadata": {
        "colab": {
          "background_save": true
        },
        "id": "zfhN5Zj6fpq2"
      },
      "outputs": [],
      "source": [
        "#Block Class\n",
        "class Block:\n",
        "    def __init__(self, timestamp, data, previous_hash):\n",
        "        self.timestamp = timestamp\n",
        "        self.data = data\n",
        "        self.previous_hash = previous_hash\n",
        "        self.hash = self.calculate_hash()\n",
        "\n",
        "    def calculate_hash(self):\n",
        "        block_data = json.dumps(self.data).encode()\n",
        "        sha = sha256()\n",
        "        sha.update(str(self.timestamp).encode() + block_data + str(self.previous_hash).encode())\n",
        "        return sha.hexdigest()\n",
        "\n"
      ]
    },
    {
      "cell_type": "code",
      "execution_count": null,
      "metadata": {
        "id": "WeEsNtYygIix"
      },
      "outputs": [],
      "source": [
        "class Blockchain:\n",
        "    def __init__(self):\n",
        "        self.chain = [self.create_genesis_block()]\n",
        "\n",
        "    def create_genesis_block(self):\n",
        "        return Block(datetime.now(), \"Genesis Block\", \"0\")\n",
        "\n",
        "    def add_block(self, data):\n",
        "        previous_block = self.chain[-1]\n",
        "        new_block = Block(datetime.now(), data, previous_block.hash)\n",
        "        self.chain.append(new_block)\n",
        "\n",
        "    def get_block(self, block_height):\n",
        "        return self.chain[block_height]\n",
        "\n",
        "    def get_block_by_hash(self, block_hash):\n",
        "        for block in self.chain:\n",
        "            if block.hash == block_hash:\n",
        "                return block\n",
        "        return None\n",
        "\n",
        "    def get_data(self, block_height):\n",
        "        block = self.get_block(block_height)\n",
        "        return block.data\n",
        "\n",
        "    def get_data_by_hash(self, block_hash):\n",
        "        block = self.get_block_by_hash(block_hash)\n",
        "        if block is not None:\n",
        "            return block.data\n",
        "        return None\n",
        "\n",
        "    def get_block_hashes(self):\n",
        "        hashes = []\n",
        "        for block in self.chain:\n",
        "            hashes.append(block.hash)\n",
        "        return hashes"
      ]
    },
    {
      "cell_type": "markdown",
      "metadata": {
        "id": "XnArhssohMXy"
      },
      "source": [
        "##Create BlockChain Class"
      ]
    },
    {
      "cell_type": "code",
      "execution_count": null,
      "metadata": {
        "colab": {
          "base_uri": "https://localhost:8080/"
        },
        "id": "nUCi5U-3gcDY",
        "outputId": "b31e95f3-5807-441a-ba05-7684001e44e9"
      },
      "outputs": [
        {
          "name": "stdout",
          "output_type": "stream",
          "text": [
            "['d93869e10bdd431acb3cc5d0d4f51e4e26d873cfa0cf8ecac101520820a03ea3', '5b68961d5a306936c8dd8b332618510a0d1a0c013ee41cf2f646b53af82af0ae', 'df27cd764390e8bcbd1898b75064aeefd7c8143281a5698952849141d7f5ece0', '15ae56d5b51844243d9b870b3f76c0f3b41aad357392780454ee5d4ea77cafba']\n"
          ]
        }
      ],
      "source": [
        "blockchain = Blockchain()\n",
        "blockchain.add_block(\"Patient Data 1\")\n",
        "blockchain.add_block(\"Patient Data 2\")\n",
        "blockchain.add_block(\"Patient Data 3\")\n",
        "\n",
        "hashes = blockchain.get_block_hashes()\n",
        "print(hashes)"
      ]
    },
    {
      "cell_type": "markdown",
      "metadata": {
        "id": "OA-v4faSgXFq"
      },
      "source": [
        "##Get Data using Hashes"
      ]
    },
    {
      "cell_type": "code",
      "execution_count": null,
      "metadata": {
        "colab": {
          "base_uri": "https://localhost:8080/"
        },
        "id": "D4PGRUwxgfMS",
        "outputId": "3b149a79-94a6-4e5b-dec5-9f031262b9b7"
      },
      "outputs": [
        {
          "name": "stdout",
          "output_type": "stream",
          "text": [
            "Patient Data 1\n"
          ]
        }
      ],
      "source": [
        "data = blockchain.get_data_by_hash(\"5b68961d5a306936c8dd8b332618510a0d1a0c013ee41cf2f646b53af82af0ae\")\n",
        "print(data)"
      ]
    },
    {
      "cell_type": "markdown",
      "metadata": {
        "id": "mX44TggqhaOb"
      },
      "source": [
        "##Get Data using Hights"
      ]
    },
    {
      "cell_type": "code",
      "execution_count": null,
      "metadata": {
        "colab": {
          "base_uri": "https://localhost:8080/"
        },
        "id": "LYFve8UZhdoV",
        "outputId": "c91e1327-5e44-40a2-fbb5-f2162ac07223"
      },
      "outputs": [
        {
          "name": "stdout",
          "output_type": "stream",
          "text": [
            "Patient Data 2\n"
          ]
        }
      ],
      "source": [
        "data = blockchain.get_data(2)\n",
        "print(data)"
      ]
    },
    {
      "cell_type": "markdown",
      "metadata": {
        "id": "EU1t6BLtiLnN"
      },
      "source": [
        "##Find number of Block is added"
      ]
    },
    {
      "cell_type": "code",
      "execution_count": null,
      "metadata": {
        "colab": {
          "base_uri": "https://localhost:8080/"
        },
        "id": "NnxhoDXfiKKA",
        "outputId": "e02bf454-c6bc-4994-c531-91fea14ddd55"
      },
      "outputs": [
        {
          "name": "stdout",
          "output_type": "stream",
          "text": [
            "4\n"
          ]
        }
      ],
      "source": [
        "num_blocks = len(blockchain.chain)\n",
        "print(num_blocks)"
      ]
    },
    {
      "cell_type": "code",
      "execution_count": null,
      "metadata": {
        "id": "0bw46q53iV8c"
      },
      "outputs": [],
      "source": []
    }
  ],
  "metadata": {
    "colab": {
      "provenance": [],
      "authorship_tag": "ABX9TyMoTzv6veXJLC8LqJ7GYxL7",
      "include_colab_link": true
    },
    "kernelspec": {
      "display_name": "Python 3",
      "name": "python3"
    },
    "language_info": {
      "name": "python"
    }
  },
  "nbformat": 4,
  "nbformat_minor": 0
}